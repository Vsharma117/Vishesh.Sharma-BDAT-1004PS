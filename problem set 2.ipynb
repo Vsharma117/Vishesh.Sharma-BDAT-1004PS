{
 "cells": [
  {
   "cell_type": "code",
   "execution_count": 6,
   "id": "2e7abc33",
   "metadata": {},
   "outputs": [
    {
     "name": "stdout",
     "output_type": "stream",
     "text": [
      "6\n"
     ]
    }
   ],
   "source": [
    "#question 1\n",
    "a = 0\n",
    "\n",
    "def b():\n",
    "    global a\n",
    "    a = c(a)\n",
    "\n",
    "def c(a):\n",
    "    return a + 2\n",
    "\n",
    "\n",
    "b()\n",
    "b()\n",
    "b()\n",
    "print(a) \n"
   ]
  },
  {
   "cell_type": "code",
   "execution_count": 8,
   "id": "dd22c89f",
   "metadata": {},
   "outputs": [
    {
     "name": "stdout",
     "output_type": "stream",
     "text": [
      "123\n",
      "File nonexistent_file.txt not found.\n",
      "None\n"
     ]
    }
   ],
   "source": [
    "#Question 2\n",
    "def fileLength(filename):\n",
    "    try:\n",
    "        with open(filename, 'r') as infile:\n",
    "            contents = infile.read()\n",
    "            return len(contents)\n",
    "    except FileNotFoundError:\n",
    "        print(f\"File {filename} not found.\")\n",
    "\n",
    "\n",
    "print(fileLength('Filelength.txt'))  # Expected output: length of Filelength.txt content\n",
    "print(fileLength('nonexistent_file.txt'))  # Expected output: \"File nonexistent_file.txt not found.\"\n",
    "\n"
   ]
  },
  {
   "cell_type": "code",
   "execution_count": 9,
   "id": "b26ccf5f",
   "metadata": {},
   "outputs": [
    {
     "name": "stdout",
     "output_type": "stream",
     "text": [
      "['doll', 'firetruck']\n",
      "I am a Kangaroo located at coordinates (0,0)\n",
      "['kitten']\n",
      "I am a Kangaroo located at coordinates (1,2)\n"
     ]
    }
   ],
   "source": [
    "#Question 3\n",
    "class Marsupial:\n",
    "    def __init__(self):\n",
    "        self.pouch = []\n",
    "\n",
    "    def put_in_pouch(self, item):\n",
    "        self.pouch.append(item)\n",
    "\n",
    "    def pouch_contents(self):\n",
    "        return self.pouch\n",
    "\n",
    "class Kangaroo(Marsupial):\n",
    "    def __init__(self, x, y):\n",
    "        super().__init__()\n",
    "        self.x = x\n",
    "        self.y = y\n",
    "\n",
    "    def jump(self, dx, dy):\n",
    "        self.x += dx\n",
    "        self.y += dy\n",
    "\n",
    "    def __str__(self):\n",
    "        return f\"I am a Kangaroo located at coordinates ({self.x},{self.y})\"\n",
    "\n",
    "\n",
    "m = Marsupial()\n",
    "m.put_in_pouch('doll')\n",
    "m.put_in_pouch('firetruck')\n",
    "print(m.pouch_contents())  \n",
    "\n",
    "k = Kangaroo(0, 0)\n",
    "print(k) \n",
    "k.put_in_pouch('kitten')\n",
    "print(k.pouch_contents()) \n",
    "k.jump(1, 2)\n",
    "print(k) \n"
   ]
  },
  {
   "cell_type": "code",
   "execution_count": 10,
   "id": "0bcfc68e",
   "metadata": {},
   "outputs": [
    {
     "name": "stdout",
     "output_type": "stream",
     "text": [
      "10\n",
      "5\n",
      "16\n",
      "8\n",
      "4\n",
      "2\n",
      "1\n"
     ]
    }
   ],
   "source": [
    "#question 4\n",
    "def collatz(x):\n",
    "    print(x)\n",
    "    if x == 1:\n",
    "        return\n",
    "    elif x % 2 == 0:\n",
    "        collatz(x // 2)\n",
    "    else:\n",
    "        collatz(3 * x + 1)\n",
    "\n",
    "\n",
    "collatz(10)  \n"
   ]
  },
  {
   "cell_type": "code",
   "execution_count": 11,
   "id": "2e390601",
   "metadata": {},
   "outputs": [
    {
     "name": "stdout",
     "output_type": "stream",
     "text": [
      "1001\n"
     ]
    }
   ],
   "source": [
    "#question 5\n",
    "def binary(n):\n",
    "    if n == 0:\n",
    "        print(0, end='')\n",
    "    elif n == 1:\n",
    "        print(1, end='')\n",
    "    else:\n",
    "        binary(n // 2)\n",
    "        print(n % 2, end='')\n",
    "binary(9)  \n",
    "print()  \n",
    "\n"
   ]
  },
  {
   "cell_type": "code",
   "execution_count": 27,
   "id": "c1f38c2e",
   "metadata": {},
   "outputs": [
    {
     "name": "stdout",
     "output_type": "stream",
     "text": [
      "Change_me\n",
      "W3C Mission\n",
      " Principles\n"
     ]
    }
   ],
   "source": [
    "#question 6\n",
    "from html.parser import HTMLParser\n",
    "\n",
    "class HeadingParser(HTMLParser):\n",
    "    def __init__(self):\n",
    "        super().__init__()\n",
    "        self.indent_level = 0  \n",
    "\n",
    "    def handle_starttag(self, tag, attrs):\n",
    "        if tag in ['h1', 'h2', 'h3', 'h4', 'h5', 'h6']:\n",
    "           \n",
    "            self.indent_level = int(tag[1]) - 1  \n",
    "\n",
    "    def handle_data(self, data):\n",
    "        if data.strip():\n",
    "            print(\" \" * self.indent_level + data)\n",
    "\n",
    "with open('C:/Georgian College/Data Analytics Programming/w3c.html', 'r', encoding='utf-8') as file:\n",
    "    content = file.read()\n",
    "\n",
    "hp = HeadingParser()\n",
    "hp.feed(content)\n"
   ]
  },
  {
   "cell_type": "code",
   "execution_count": 32,
   "id": "cea03a68",
   "metadata": {},
   "outputs": [
    {
     "name": "stdout",
     "output_type": "stream",
     "text": [
      "https://playvalorant.com/en-us/\n",
      "    https://playvalorant.com/en-us/news/\n",
      "        https://valorantesports.com/en-us/news/valorant-game-changers-championship-2024-everything-you-need-to-know\n",
      "        https://www.youtube.com/watch?v=fa_p-q6npXE\n",
      "        https://www.youtube.com/watch?v=iqCZ2EudfC0\n",
      "        https://www.youtube.com/watch?v=xi10SuaE49I\n",
      "        https://www.youtube.com/watch?v=C4EaUn-qTpg\n",
      "        https://valorantesports.com/en-us/news/competitive-ruling-chetan-chet-singh\n",
      "        https://valorantesports.com/en-us/news/verizon-valorant-game-changers-na-series-3-main-event\n",
      "        https://www.youtube.com/watch?v=bGwdLgObQCs\n",
      "        https://valorantesports.com/en-us/news/game-changers-championship-live-audience-and-ticket-sale-information\n",
      "    https://www.youtube.com/watch?v=xi10SuaE49I\n",
      "        https://www.youtube.com/about/\n",
      "        https://www.youtube.com/about/press/\n",
      "        https://www.youtube.com/about/copyright/\n",
      "        https://www.youtube.com/creators/\n",
      "        https://www.youtube.com/ads/\n",
      "        https://developers.google.com/youtube\n",
      "        https://www.youtube.com/about/policies/\n",
      "        https://www.youtube.com/howyoutubeworks?utm_campaign=ytgen&utm_source=ythp&utm_medium=LeftNav&utm_content=txt&u=https%3A%2F%2Fwww.youtube.com%2Fhowyoutubeworks%3Futm_source%3Dythp%26utm_medium%3DLeftNav%26utm_campaign%3Dytgen\n",
      "        https://www.google.com/accessibility/get-in-touch/\n",
      "    https://www.youtube.com/watch?v=BEpcN-eE8ms\n",
      "        https://www.youtube.com/about/\n",
      "        https://www.youtube.com/about/press/\n",
      "        https://www.youtube.com/about/copyright/\n",
      "        https://www.youtube.com/creators/\n",
      "        https://www.youtube.com/ads/\n",
      "        https://developers.google.com/youtube\n",
      "        https://www.youtube.com/about/policies/\n",
      "        https://www.youtube.com/howyoutubeworks?utm_campaign=ytgen&utm_source=ythp&utm_medium=LeftNav&utm_content=txt&u=https%3A%2F%2Fwww.youtube.com%2Fhowyoutubeworks%3Futm_source%3Dythp%26utm_medium%3DLeftNav%26utm_campaign%3Dytgen\n",
      "        https://www.google.com/accessibility/get-in-touch/\n",
      "    https://playvalorant.com/en-us/console/\n",
      "        https://www.youtube.com/watch?v=6nKzziP2lxw\n",
      "        https://www.youtube.com/watch?v=GAkFklRvhjU\n",
      "        https://www.youtube.com/watch?v=gXq176aI7Mk\n",
      "        https://www.youtube.com/watch?v=e9i02_8aMV0\n",
      "        https://playvalorant.com/en-us/news/announcements/beginners-guide/\n",
      "    https://playvalorant.com/en-us/news/announcements/beginners-guide/\n",
      "        http://playvalorant.com/en-us/arsenal/\n",
      "        http://playvalorant.com/en-us/maps/\n",
      "        https://beta.playvalorant.com/en-us/news/\n",
      "        https://twitter.com/PlayVALORANT\n",
      "    https://playvalorant.com/en-us/agents/\n",
      "    https://playvalorant.com/en-us/maps/\n"
     ]
    }
   ],
   "source": [
    "#question 7\n",
    "import requests\n",
    "from bs4 import BeautifulSoup\n",
    "\n",
    "def webdir(url, depth, indent):\n",
    "    if depth < 0:\n",
    "        return\n",
    "    print(\" \" * indent + url)\n",
    "\n",
    "    try:\n",
    "        response = requests.get(url)\n",
    "        response.raise_for_status()  # Raise an exception for HTTP errors\n",
    "        soup = BeautifulSoup(response.content, 'html.parser')\n",
    "        links = soup.find_all('a', href=True)\n",
    "        for link in links:\n",
    "            href = link['href']\n",
    "            if href.startswith('http'):\n",
    "                webdir(href, depth - 1, indent + 4)  # Recurse with reduced depth and increased indent\n",
    "                \n",
    "    except requests.RequestException as e:\n",
    "        print(\"Error accessing:\", url, \"-\", e)\n",
    "webdir('https://playvalorant.com/en-us/', 2, 0)\n",
    "\n"
   ]
  },
  {
   "cell_type": "code",
   "execution_count": 31,
   "id": "6375877b",
   "metadata": {},
   "outputs": [
    {
     "name": "stdout",
     "output_type": "stream",
     "text": [
      "\n",
      "All Temperatures:\n",
      " Temperature\n",
      "        24.8\n",
      "        28.4\n",
      "        27.9\n",
      "        27.6\n",
      "         4.2\n",
      "         8.3\n",
      "        15.7\n",
      "        10.4\n",
      "        13.6\n",
      "        20.7\n",
      "        27.7\n",
      "        22.2\n",
      "        24.8\n",
      "        28.4\n",
      "        27.9\n",
      "        27.6\n",
      "         4.2\n",
      "         8.3\n",
      "        15.7\n",
      "        10.4\n",
      "        13.6\n",
      "        20.7\n",
      "        27.7\n",
      "        22.2\n",
      "\n",
      "Unique Cities:\n",
      "  City\n",
      "Mumbai\n",
      "London\n",
      " Cairo\n",
      "\n",
      "Records for India:\n",
      "  City Country Season  Temperature  Rainfall\n",
      "Mumbai   India Winter         24.8       5.9\n",
      "Mumbai   India Spring         28.4      16.2\n",
      "Mumbai   India Summer         27.9    1549.4\n",
      "Mumbai   India   Fall         27.6     346.0\n",
      "Mumbai   India Winter         24.8       5.9\n",
      "Mumbai   India Spring         28.4      16.2\n",
      "Mumbai   India Summer         27.9    1549.4\n",
      "Mumbai   India   Fall         27.6     346.0\n",
      "\n",
      "Fall Records:\n",
      "  City        Country Season  Temperature  Rainfall\n",
      "Mumbai          India   Fall         27.6     346.0\n",
      "London United Kingdom   Fall         10.4     218.5\n",
      " Cairo          Egypt   Fall         22.2       4.5\n",
      "Mumbai          India   Fall         27.6     346.0\n",
      "London United Kingdom   Fall         10.4     218.5\n",
      " Cairo          Egypt   Fall         22.2       4.5\n",
      "\n",
      "Cities with Rainfall between 200 and 400 mm:\n",
      "  City        Country Season\n",
      "Mumbai          India   Fall\n",
      "London United Kingdom Winter\n",
      "London United Kingdom   Fall\n",
      "Mumbai          India   Fall\n",
      "London United Kingdom Winter\n",
      "London United Kingdom   Fall\n",
      "\n",
      "Cities with Fall Temperature above 20 degrees:\n",
      "  City Country\n",
      " Cairo   Egypt\n",
      " Cairo   Egypt\n",
      "Mumbai   India\n",
      "Mumbai   India\n",
      "\n",
      "Total Annual Rainfall for Cairo:\n",
      " AnnualRainfall\n",
      "           55.2\n",
      "\n",
      "Total Rainfall for each Season:\n",
      "Season  TotalRainfall\n",
      "  Fall         1138.0\n",
      "Spring          384.6\n",
      "Summer         3413.0\n",
      "Winter          460.2\n"
     ]
    }
   ],
   "source": [
    "#question 8\n",
    "import sqlite3\n",
    "import pandas as pd\n",
    "conn = sqlite3.connect('weather_data.db')\n",
    "cursor = conn.cursor()\n",
    "cursor.execute('''\n",
    "CREATE TABLE IF NOT EXISTS weather_data (\n",
    "    City TEXT,\n",
    "    Country TEXT,\n",
    "    Season TEXT,\n",
    "    Temperature REAL,\n",
    "    Rainfall REAL\n",
    ")\n",
    "''')\n",
    "\n",
    "data = [\n",
    "    ('Mumbai', 'India', 'Winter', 24.8, 5.9),\n",
    "    ('Mumbai', 'India', 'Spring', 28.4, 16.2),\n",
    "    ('Mumbai', 'India', 'Summer', 27.9, 1549.4),\n",
    "    ('Mumbai', 'India', 'Fall', 27.6, 346.0),\n",
    "    ('London', 'United Kingdom', 'Winter', 4.2, 207.7),\n",
    "    ('London', 'United Kingdom', 'Spring', 8.3, 169.6),\n",
    "    ('London', 'United Kingdom', 'Summer', 15.7, 157.0),\n",
    "    ('London', 'United Kingdom', 'Fall', 10.4, 218.5),\n",
    "    ('Cairo', 'Egypt', 'Winter', 13.6, 16.5),\n",
    "    ('Cairo', 'Egypt', 'Spring', 20.7, 6.5),\n",
    "    ('Cairo', 'Egypt', 'Summer', 27.7, 0.1),\n",
    "    ('Cairo', 'Egypt', 'Fall', 22.2, 4.5)\n",
    "]\n",
    "cursor.executemany(\"INSERT INTO weather_data VALUES (?, ?, ?, ?, ?)\", data)\n",
    "conn.commit() \n",
    "\n",
    "def print_query_result(query, description):\n",
    "    cursor.execute(query)\n",
    "    result = cursor.fetchall()\n",
    "    df = pd.DataFrame(result, columns=[desc[0] for desc in cursor.description])\n",
    "    print(f\"\\n{description}\")\n",
    "    print(df.to_string(index=False))\n",
    "\n",
    "\n",
    "print_query_result(\"SELECT Temperature FROM weather_data\", \"All Temperatures:\")\n",
    "print_query_result(\"SELECT DISTINCT City FROM weather_data\", \"Unique Cities:\")\n",
    "print_query_result(\"SELECT * FROM weather_data WHERE Country = 'India'\", \"Records for India:\")\n",
    "print_query_result(\"SELECT * FROM weather_data WHERE Season = 'Fall'\", \"Fall Records:\")\n",
    "print_query_result(\"SELECT City, Country, Season FROM weather_data WHERE Rainfall BETWEEN 200 AND 400\",\n",
    "                   \"Cities with Rainfall between 200 and 400 mm:\")\n",
    "print_query_result(\"SELECT City, Country FROM weather_data WHERE Season = 'Fall' AND Temperature > 20 ORDER BY Temperature ASC\",\n",
    "                   \"Cities with Fall Temperature above 20 degrees:\")\n",
    "print_query_result(\"SELECT SUM(Rainfall) AS AnnualRainfall FROM weather_data WHERE City = 'Cairo'\", \n",
    "                   \"Total Annual Rainfall for Cairo:\")\n",
    "print_query_result(\"SELECT Season, SUM(Rainfall) AS TotalRainfall FROM weather_data GROUP BY Season\", \n",
    "                   \"Total Rainfall for each Season:\")\n",
    "conn.close()\n"
   ]
  },
  {
   "cell_type": "code",
   "execution_count": 29,
   "id": "148b8e4b",
   "metadata": {},
   "outputs": [
    {
     "name": "stdout",
     "output_type": "stream",
     "text": [
      "Uppercase Words: ['THE', 'QUICK', 'BROWN', 'FOX', 'JUMPS', 'OVER', 'THE', 'LAZY', 'DOG']\n",
      "Lowercase Words: ['the', 'quick', 'brown', 'fox', 'jumps', 'over', 'the', 'lazy', 'dog']\n",
      "Word Lengths: [3, 5, 5, 3, 5, 4, 3, 4, 3]\n",
      "Detailed Words: [['THE', 'the', 3], ['QUICK', 'quick', 5], ['BROWN', 'brown', 5], ['FOX', 'fox', 3], ['JUMPS', 'jumps', 5], ['OVER', 'over', 4], ['THE', 'the', 3], ['LAZY', 'lazy', 4], ['DOG', 'dog', 3]]\n",
      "Filtered Words (4 or more characters): ['quick', 'brown', 'jumps', 'over', 'lazy']\n"
     ]
    }
   ],
   "source": [
    "#question 9\n",
    "words = ['The', 'quick', 'brown', 'fox', 'jumps', 'over', 'the', 'lazy', 'dog']\n",
    "uppercase_words = [word.upper() for word in words]\n",
    "print(\"Uppercase Words:\", uppercase_words)\n",
    "\n",
    "lowercase_words = [word.lower() for word in words]\n",
    "print(\"Lowercase Words:\", lowercase_words)\n",
    "\n",
    "word_lengths = [len(word) for word in words]\n",
    "print(\"Word Lengths:\", word_lengths)\n",
    "\n",
    "detailed_words = [[word.upper(), word.lower(), len(word)] for word in words]\n",
    "print(\"Detailed Words:\", detailed_words)\n",
    "\n",
    "filtered_words = [word for word in words if len(word) >= 4]\n",
    "print(\"Filtered Words (4 or more characters):\", filtered_words)"
   ]
  },
  {
   "cell_type": "code",
   "execution_count": null,
   "id": "5c6e1953",
   "metadata": {},
   "outputs": [],
   "source": []
  }
 ],
 "metadata": {
  "kernelspec": {
   "display_name": "Python 3 (ipykernel)",
   "language": "python",
   "name": "python3"
  },
  "language_info": {
   "codemirror_mode": {
    "name": "ipython",
    "version": 3
   },
   "file_extension": ".py",
   "mimetype": "text/x-python",
   "name": "python",
   "nbconvert_exporter": "python",
   "pygments_lexer": "ipython3",
   "version": "3.11.5"
  }
 },
 "nbformat": 4,
 "nbformat_minor": 5
}
